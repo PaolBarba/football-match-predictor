{
 "cells": [
  {
   "cell_type": "code",
   "execution_count": null,
   "metadata": {},
   "outputs": [],
   "source": [
    "cd .."
   ]
  },
  {
   "cell_type": "code",
   "execution_count": null,
   "metadata": {},
   "outputs": [],
   "source": [
    "import pandas as pd\n",
    "from sentence_transformers import SentenceTransformer\n",
    "from sklearn.cluster import KMeans\n",
    "\n",
    "from scripts import utils"
   ]
  },
  {
   "cell_type": "code",
   "execution_count": null,
   "metadata": {},
   "outputs": [],
   "source": [
    "train_csv = \"dataset/train.csv\"\n",
    "dataset = pd.read_csv(train_csv)"
   ]
  },
  {
   "cell_type": "code",
   "execution_count": null,
   "metadata": {},
   "outputs": [],
   "source": [
    "# Grouping by 'object'\n",
    "grouped = dataset.groupby(\"object\")\n",
    "\n",
    "# Display the grouped data\n",
    "grouped.ngroups"
   ]
  },
  {
   "cell_type": "code",
   "execution_count": null,
   "metadata": {},
   "outputs": [],
   "source": [
    "model = SentenceTransformer(\"paraphrase-MiniLM-L6-v2\")\n",
    "\n",
    "# Step 5: Group by the 'object' column\n",
    "grouped = dataset.groupby(\"object\")\n",
    "\n",
    "\n",
    "# Step 6: Function to clusterize each group\n",
    "def clusterize_group(group, n_clusters=4):\n",
    "    # Encode descriptions into numerical vectors\n",
    "    embeddings = model.encode(group[\"description\"].tolist())\n",
    "\n",
    "    # Perform clustering (e.g., KMeans with n_clusters clusters)\n",
    "    kmeans = KMeans(n_clusters=n_clusters, random_state=42)\n",
    "    group[\"cluster\"] = kmeans.fit_predict(embeddings)\n",
    "\n",
    "    return group"
   ]
  },
  {
   "cell_type": "code",
   "execution_count": null,
   "metadata": {},
   "outputs": [],
   "source": [
    "# Step 7: Apply the clustering function to each group\n",
    "df_clustered = grouped.apply(clusterize_group).reset_index(drop=True)"
   ]
  },
  {
   "cell_type": "code",
   "execution_count": null,
   "metadata": {},
   "outputs": [],
   "source": [
    "# Step 8: Display the DataFrame with cluster labels\n",
    "clusters = df_clustered[\"cluster\"]\n",
    "\n",
    "# Target\n",
    "target = df_clustered[\"target\"]"
   ]
  },
  {
   "cell_type": "code",
   "execution_count": null,
   "metadata": {},
   "outputs": [],
   "source": [
    "clusters.tolist()"
   ]
  },
  {
   "cell_type": "code",
   "execution_count": null,
   "metadata": {},
   "outputs": [],
   "source": [
    "from itertools import permutations\n",
    "\n",
    "import matplotlib.pyplot as plt\n",
    "import numpy as np\n",
    "import seaborn as sns\n",
    "from sklearn.metrics import confusion_matrix\n",
    "\n",
    "# Assuming df_clustered and clusters are defined and contain the relevant data\n",
    "# df_clustered['target'] should be the actual target labels\n",
    "# clusters should be the predicted cluster labels\n",
    "\n",
    "# Calculate the initial confusion matrix\n",
    "cm = confusion_matrix(df_clustered[\"target\"], clusters)\n",
    "\n",
    "\n",
    "# Find the optimal mapping to maximize accuracy\n",
    "def find_best_mapping(conf_matrix):\n",
    "    n_classes = conf_matrix.shape[0]\n",
    "    best_accuracy = 0\n",
    "    best_mapping = None\n",
    "\n",
    "    for perm in permutations(range(n_classes)):\n",
    "        # Permute confusion matrix based on current permutation\n",
    "        permuted_cm = conf_matrix[np.ix_(range(n_classes), perm)]\n",
    "        # Calculate accuracy\n",
    "        accuracy = np.trace(permuted_cm) / np.sum(permuted_cm)\n",
    "        if accuracy > best_accuracy:\n",
    "            best_accuracy = accuracy\n",
    "            best_mapping = perm\n",
    "\n",
    "    return best_mapping\n",
    "\n",
    "\n",
    "# Get the best mapping\n",
    "best_mapping = find_best_mapping(cm)\n",
    "\n",
    "# Apply the best mapping to the confusion matrix\n",
    "optimal_cm = cm[np.ix_(range(cm.shape[0]), best_mapping)]\n",
    "\n",
    "# Visualize the optimal confusion matrix\n",
    "plt.figure(figsize=(8, 6))\n",
    "sns.heatmap(\n",
    "    optimal_cm, annot=True, fmt=\"d\", cmap=\"Blues\", xticklabels=range(cm.shape[1]), yticklabels=range(cm.shape[0])\n",
    ")\n",
    "plt.xlabel(\"Predicted Cluster\")\n",
    "plt.ylabel(\"Actual Target\")\n",
    "plt.title(\"Confusion Matrix with Optimal Mapping\")\n",
    "plt.show()\n",
    "\n",
    "# Print accuracy of the optimal mapping\n",
    "optimal_accuracy = np.trace(optimal_cm) / np.sum(optimal_cm)\n",
    "print(f\"Optimal Accuracy: {optimal_accuracy:.2f}\")"
   ]
  },
  {
   "cell_type": "code",
   "execution_count": null,
   "metadata": {},
   "outputs": [],
   "source": [
    "# Visualizatio of Object - description - target\n",
    "utils.plot_description_image_target(\"dataset/images/train\", train_csv, 10)"
   ]
  }
 ],
 "metadata": {
  "kernelspec": {
   "display_name": "leonardo",
   "language": "python",
   "name": "python3"
  },
  "language_info": {
   "codemirror_mode": {
    "name": "ipython",
    "version": 3
   },
   "file_extension": ".py",
   "mimetype": "text/x-python",
   "name": "python",
   "nbconvert_exporter": "python",
   "pygments_lexer": "ipython3",
   "version": "3.11.9"
  }
 },
 "nbformat": 4,
 "nbformat_minor": 2
}
